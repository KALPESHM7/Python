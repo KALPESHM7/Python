{
 "cells": [
  {
   "cell_type": "code",
   "execution_count": 3,
   "id": "6325f6ad-b61c-4d79-8fda-1cfc4a1d5963",
   "metadata": {},
   "outputs": [
    {
     "name": "stdout",
     "output_type": "stream",
     "text": [
      "====== Bank Account ======\n",
      "1. Create Account\n",
      "2. Deposit\n",
      "3. Withdraw\n",
      "4. Display Account Details\n",
      "5. View Transactions History\n",
      "6. Exit\n"
     ]
    },
    {
     "name": "stdin",
     "output_type": "stream",
     "text": [
      "Enter Your Choice: 1\n",
      "Enter the Account Holder name: 1\n",
      "Enter the account type (savings/checking): savings\n",
      "Enter the initial amount: 500\n"
     ]
    },
    {
     "name": "stdout",
     "output_type": "stream",
     "text": [
      "Created Account Successfully 1,The account number is 100\n",
      "====== Bank Account ======\n",
      "1. Create Account\n",
      "2. Deposit\n",
      "3. Withdraw\n",
      "4. Display Account Details\n",
      "5. View Transactions History\n",
      "6. Exit\n"
     ]
    },
    {
     "name": "stdin",
     "output_type": "stream",
     "text": [
      "Enter Your Choice: 6\n"
     ]
    },
    {
     "name": "stdout",
     "output_type": "stream",
     "text": [
      "Thank You for using the Banking System.\n"
     ]
    }
   ],
   "source": [
    "from datetime import datetime\n",
    "def log_transactions(transaction_type):\n",
    "    def decorator(func):\n",
    "        def wrapper(self,amount):\n",
    "            result = func(self,amount)\n",
    "            self._transactions.append(Transaction(transaction_type,amount))\n",
    "            return result\n",
    "        return wrapper\n",
    "    return decorator\n",
    "class  BankAccount:\n",
    "    initial_counter = 100\n",
    "\n",
    "    def __init__(self,name,initial_amount):\n",
    "        self.account_number = BankAccount.initial_counter\n",
    "        BankAccount.initial_counter += 1\n",
    "        self.account_holder = name\n",
    "        self._balance = initial_amount\n",
    "        self._transactions = [] # creating a private list for log \n",
    "        self._transactions.append(Transaction(\"Account Created\",initial_amount,\"Initial_deposit\"))\n",
    "    @log_transactions(\"Deposit\")\n",
    "    def deposit(self,amount):\n",
    "        if amount <= 0:\n",
    "            raise InvalidAmountError(\"Deposit amount must be Positive.\")\n",
    "        self._balance += amount\n",
    "        print(f\"{amount} is Deposited. New balance is:{self._balance}\")\n",
    "    @log_transactions(\"Withdrawal\")    \n",
    "    def withdraw(self,amount):\n",
    "        if amount <= 0:\n",
    "            raise InvalidAmountError(\"Withdrawal Amount should be Positive.\")\n",
    "        if amount > self._balance:\n",
    "            raise InsufficientFundsError(\"Insufficient Balance!\")\n",
    "        else:\n",
    "            self._balance -= amount\n",
    "            print(f\"{amount} is withdrawn. The new Balance is {self._balance}\")\n",
    "        \n",
    "    def see_balance(self):\n",
    "        return self._balance\n",
    "    def display_details(self):\n",
    "        print(f\"Account Number: {self.account_number}\")\n",
    "        print(f\"Account Holder:{self.account_holder}\")\n",
    "        print(f\"Balance is:{self._balance}\")\n",
    "    def show_transactions(self):\n",
    "        print (f\"\\n Tranactions History for account{self.account_number}:\")\n",
    "        if not self._transactions:\n",
    "            print(\"No Transactions\")\n",
    "        else:\n",
    "            for txn in self.iterate_transactions():\n",
    "                print(txn)\n",
    "    def iterate_transactions(self):\n",
    "        ''' A Generator that yields one transactions at a time '''\n",
    "        for txn in self._transactions:\n",
    "            yield txn\n",
    "class SavingsAccount(BankAccount):\n",
    "    def __init__(self,name,initial_amount):\n",
    "        super().__init__(name,initial_amount) # super keyword is used to get the method and the attributes of the base class(BankAccount)\n",
    "        self.interest_rate = 0.04\n",
    "    def display_details(self):\n",
    "        super().display_details()\n",
    "        print(f\"Account Type: Savings and the interest rate is {self.interest_rate}\")\n",
    "class CheckingAccount(BankAccount):\n",
    "    def __init__(self,name,initial_amount):\n",
    "        super().__init__(name,initial_amount)\n",
    "        self.overdraft_limit = 500\n",
    "    def withdraw(self,amount):\n",
    "        if amount > self._balance + self.overdraft_limit:\n",
    "            print(\"Withdraw exceed the Overdraft limit\")\n",
    "        else:\n",
    "            self._balance -= amount\n",
    "            print(f\"{amount} is being Withdrawen.The New Balance is {self._balance}\")\n",
    "    def display_details(self):\n",
    "        super().display_details()\n",
    "        print(\"Account Type: Checking\")\n",
    "class Transaction:\n",
    "    def __init__(self,typeot,amount,note=\"\"):\n",
    "        self.typeot = typeot\n",
    "        self.amount = amount\n",
    "        self.timestamp = datetime.now() # to note down the current time\n",
    "        self.note = note\n",
    "    def __str__(self):\n",
    "        return f\"{self.timestamp.strftime('%Y-%m-%d %H:%M:%S')} | {self.typeot} | {self.amount} | {self.note}\" # to return the log in the given format \n",
    "class BankError(Exception): # We create this class for doing custome error\n",
    "    '''so this will be the base class.'''\n",
    "    pass\n",
    "class InvalidAmountError(BankError):\n",
    "    '''Raised When the amount is zero or negative '''\n",
    "    pass\n",
    "class InsufficientFundsError(BankError):\n",
    "    ''' Raised when the account doesnt have balance'''\n",
    "    pass\n",
    "class AccountNotFoundError(BankError):\n",
    "    '''Raised when when there is no account number'''\n",
    "    pass\n",
    "    \n",
    "\n",
    "account = {}\n",
    "def main():\n",
    "    \n",
    "    while True:\n",
    "        print(\"====== Bank Account ======\")\n",
    "        print(\"1. Create Account\")\n",
    "        print(\"2. Deposit\")\n",
    "        print(\"3. Withdraw\")\n",
    "        print(\"4. Display Account Details\")\n",
    "        print(\"5. View Transactions History\")\n",
    "        print(\"6. Exit\")\n",
    "        \n",
    "        choice = int(input(\"Enter Your Choice:\"))\n",
    "        if choice == 1:\n",
    "            name = input(\"Enter the Account Holder name:\")\n",
    "            acc_type = input(\"Enter the account type (savings/checking):\").lower()\n",
    "            initial_amount = int(input(\"Enter the initial amount:\"))\n",
    "            \n",
    "            if acc_type == \"savings\":\n",
    "                acc = SavingsAccount(name,initial_amount)\n",
    "            elif acc_type == \"checking\":\n",
    "                acc = CheckingAccount(name,initial_amount)\n",
    "            else:\n",
    "                print(\"Invalid account type\")\n",
    "                continue\n",
    "            account[acc.account_number] = acc # in dictionary we give it as keyvalue pair so the key is acc.account_number and the  value is the object refereing to it (i.e name and initial_amount)\n",
    "            ''' Here we are assigning key as account number and the acc object which has name and initial amount '''\n",
    "            print(f\"Created Account Successfully {name},The account number is {acc.account_number}\")\n",
    "        elif choice == 2: # for Deposit\n",
    "            acc_num = int(input(\"Enter the Account Number:\"))\n",
    "            if acc_num in account:\n",
    "                try:\n",
    "                    amount=int(input(\"Enter the amount to be Deposited:\"))\n",
    "                    account[acc_num].deposit(amount)\n",
    "                except InvalidAmountError as e:\n",
    "                    print(\"Error:\", e)\n",
    "            else:\n",
    "                print(\"Account Not found!\")\n",
    "        elif choice == 3: # For withdraw\n",
    "            acc_num = int(input(\"Enter the account number:\"))\n",
    "            if acc_num in account:\n",
    "                try:\n",
    "                    amount = float(input(\"Enter the amount to be withdrawn:\"))\n",
    "                    account[acc_num].withdraw(amount)\n",
    "                except (InvalidAmountError,InsufficientFundsError) as e:\n",
    "                    print(\"Error:\", e)\n",
    "            else:\n",
    "                print(\"Account Not found\")\n",
    "        elif choice == 4:\n",
    "            acc_num = int(input(\"Enter the Account Number:\"))\n",
    "            if acc_num in account:\n",
    "                account[acc_num].display_details()\n",
    "            else:\n",
    "                print(\"Account not found\")\n",
    "        elif choice == 5:\n",
    "            acc_num = int(input(\"Enter the account number:\"))\n",
    "            if acc_num in account:\n",
    "                account[acc_num].show_transactions()\n",
    "            else:\n",
    "                print(\"Account  Not Found! \")\n",
    "                          \n",
    "        elif choice == 6:\n",
    "            print(\"Thank You for using the Banking System.\")\n",
    "            break\n",
    "        else:\n",
    "            print(\"Invalid choice .Try again \")\n",
    "\n",
    "if __name__ == \"__main__\":\n",
    "    main()\n",
    "            \n",
    "                \n",
    "\n",
    "                "
   ]
  },
  {
   "cell_type": "markdown",
   "id": "e74dde43-1e3f-4a60-b29b-bf7a0f96cc79",
   "metadata": {},
   "source": [
    "## Using Pytest for testing"
   ]
  },
  {
   "cell_type": "code",
   "execution_count": 21,
   "id": "31825b86-8e3a-4609-a24f-46261ce33408",
   "metadata": {},
   "outputs": [
    {
     "name": "stdout",
     "output_type": "stream",
     "text": [
      "Account test is passed\n"
     ]
    }
   ],
   "source": [
    "# Testing Cretation of account \n",
    "test_account = SavingsAccount(\"Kalpesh\",1000)\n",
    "assert test_account.account_holder == \"Kalpesh\"\n",
    "assert test_account._balance == 1000\n",
    "assert test_account.account_number >=100\n",
    "print(\"Account test is passed\")"
   ]
  },
  {
   "cell_type": "code",
   "execution_count": 23,
   "id": "88d98eca-52dc-4980-aa46-c1516e6f4a8c",
   "metadata": {},
   "outputs": [
    {
     "name": "stdout",
     "output_type": "stream",
     "text": [
      "500 is Deposited. New balance is:1500\n",
      "Deposit Tested Successfully\n"
     ]
    }
   ],
   "source": [
    "#Testing Deposit\n",
    "test_account.deposit(500)\n",
    "assert test_account._balance == 1500\n",
    "\n",
    "#try:\n",
    " #   test_account.deposit(-100)\n",
    "#except InvalidAmountError as e:\n",
    " #   assert str(e) ==\"Deposit amount must be Positive\"\n",
    "print(\"Deposit Tested Successfully\")"
   ]
  },
  {
   "cell_type": "code",
   "execution_count": 25,
   "id": "e7b1a9b0-97d4-4e83-bc16-04f9d6646ca5",
   "metadata": {},
   "outputs": [
    {
     "name": "stdout",
     "output_type": "stream",
     "text": [
      "200 is withdrawn. The new Balance is 1300\n",
      "Withdrawal Tested Successfully\n"
     ]
    }
   ],
   "source": [
    "# Testing Withdrawal\n",
    "test_account.withdraw(200)\n",
    "assert test_account._balance == 1300\n",
    "try:\n",
    "    test_account.withdraw(5000)\n",
    "except InsufficientFundsError as e:\n",
    "    assert str(e) == \"Insufficient Balance!\"\n",
    "print(\"Withdrawal Tested Successfully\")"
   ]
  },
  {
   "cell_type": "code",
   "execution_count": null,
   "id": "3a659651-4423-496c-b8c3-6be1fc2f7f73",
   "metadata": {},
   "outputs": [],
   "source": []
  },
  {
   "cell_type": "code",
   "execution_count": 31,
   "id": "73b5e2b8-b768-461b-aea5-eee32e902ef5",
   "metadata": {},
   "outputs": [
    {
     "name": "stdout",
     "output_type": "stream",
     "text": [
      "500 is being Withdrawen.The New Balance is -400\n",
      "Withdraw exceed the Overdraft limit\n"
     ]
    }
   ],
   "source": [
    "check_acc = CheckingAccount(\"K\", 100)\n",
    "check_acc.withdraw(500)  \n",
    "assert check_acc._balance == -400\n",
    "\n",
    "check_acc.withdraw(200)  # Should exceed overdraft\n",
    "# Should print \"Withdraw exceed the Overdraft limit\" but not raise error\n",
    "assert check_acc._balance == -400  # Balance shouldn't change\n"
   ]
  },
  {
   "cell_type": "code",
   "execution_count": null,
   "id": "c5565a29-f96f-4e97-8a3f-6d282d878201",
   "metadata": {},
   "outputs": [],
   "source": []
  }
 ],
 "metadata": {
  "kernelspec": {
   "display_name": "Python [conda env:py310_env]",
   "language": "python",
   "name": "conda-env-py310_env-py"
  },
  "language_info": {
   "codemirror_mode": {
    "name": "ipython",
    "version": 3
   },
   "file_extension": ".py",
   "mimetype": "text/x-python",
   "name": "python",
   "nbconvert_exporter": "python",
   "pygments_lexer": "ipython3",
   "version": "3.10.16"
  }
 },
 "nbformat": 4,
 "nbformat_minor": 5
}
